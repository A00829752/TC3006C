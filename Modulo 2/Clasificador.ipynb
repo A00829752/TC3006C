{
  "nbformat": 4,
  "nbformat_minor": 0,
  "metadata": {
    "colab": {
      "provenance": [],
      "mount_file_id": "1O2ogrn_FVs3_NQDM0_6r4jBPOMaPj2H9",
      "authorship_tag": "ABX9TyOBhVW669p0Zk/6HK1Fdzmb",
      "include_colab_link": true
    },
    "kernelspec": {
      "name": "python3",
      "display_name": "Python 3"
    },
    "language_info": {
      "name": "python"
    }
  },
  "cells": [
    {
      "cell_type": "markdown",
      "metadata": {
        "id": "view-in-github",
        "colab_type": "text"
      },
      "source": [
        "<a href=\"https://colab.research.google.com/github/A00829752/TC3006C/blob/main/Clasificador.ipynb\" target=\"_parent\"><img src=\"https://colab.research.google.com/assets/colab-badge.svg\" alt=\"Open In Colab\"/></a>"
      ]
    },
    {
      "cell_type": "code",
      "source": [
        "import pandas as pd\n",
        "import seaborn as sb\n",
        "import numpy as np\n",
        "import matplotlib.pyplot as plt\n",
        "from tabulate import tabulate\n",
        "from sklearn import preprocessing\n",
        "import seaborn as sns\n",
        "from sklearn.model_selection import train_test_split\n",
        "from sklearn.metrics import accuracy_score"
      ],
      "metadata": {
        "id": "Wz7qsI-xjVrD"
      },
      "execution_count": 35,
      "outputs": []
    },
    {
      "cell_type": "code",
      "source": [
        "from google.colab import drive\n",
        "\n",
        "drive.mount(\"/content/gdrive\")\n",
        "!pwd  # show current path\n",
        "%cd \"/content/gdrive/MyDrive/AI\"\n",
        "data_titanic = pd.read_csv(\"data_titanic.csv\")"
      ],
      "metadata": {
        "colab": {
          "base_uri": "https://localhost:8080/"
        },
        "id": "VURfTtHAjcFu",
        "outputId": "37932328-99ed-4720-e879-db9501e30336"
      },
      "execution_count": 26,
      "outputs": [
        {
          "output_type": "stream",
          "name": "stdout",
          "text": [
            "Drive already mounted at /content/gdrive; to attempt to forcibly remount, call drive.mount(\"/content/gdrive\", force_remount=True).\n",
            "/content/gdrive/.shortcut-targets-by-id/1FNDCkfZgBaoLUenHQpb6h3yPrqX4y7SU/AI\n",
            "/content/gdrive/.shortcut-targets-by-id/1FNDCkfZgBaoLUenHQpb6h3yPrqX4y7SU/AI\n"
          ]
        }
      ]
    },
    {
      "cell_type": "code",
      "source": [
        "data_titanic = data_titanic.drop(columns=['PassengerId', 'Name', 'SibSp', 'Parch', 'Ticket', 'Cabin'])"
      ],
      "metadata": {
        "id": "rRVkcapbjpAl"
      },
      "execution_count": 29,
      "outputs": []
    },
    {
      "cell_type": "code",
      "source": [
        "data_titanic['Sex'].replace(['male', 'female'],\n",
        "                        [0, 1], inplace=True)\n",
        "data_titanic['Embarked'].replace(['S', 'C', 'Q'],\n",
        "                        [0, 1, 2], inplace=True)\n",
        "data_titanic.apply (pd.to_numeric, errors='coerce')\n",
        "data_titanic = data_titanic.dropna()"
      ],
      "metadata": {
        "id": "PYsDhAfQjxXt"
      },
      "execution_count": 31,
      "outputs": []
    },
    {
      "cell_type": "code",
      "source": [
        "class regLogistica:\n",
        "    def __init__(self, aprendizaje, iteraciones):\n",
        "        self.aprendizaje = aprendizaje\n",
        "        self.iteraciones = iteraciones\n",
        "        self.pesos = None\n",
        "        self.sesgo = None\n",
        "\n",
        "    def sigmoide(self, z):\n",
        "        return 1 / (1 + np.exp(-z))\n",
        "\n",
        "    def inParametros(self, numCar):\n",
        "        self.pesos = np.zeros(numCar)\n",
        "        self.sesgo = 0\n",
        "\n",
        "    def fit(self, X, y):\n",
        "        numMuestras, numCar = X.shape\n",
        "        self.inParametros(numCar)\n",
        "\n",
        "        for _ in range(self.iteraciones):\n",
        "            y_pred = self.sigmoide(np.dot(X, self.pesos) + self.sesgo)\n",
        "\n",
        "            # Calcular gradientes\n",
        "            dw = (1/numMuestras) * np.dot(X.T, (y_pred - y))\n",
        "            db = (1/numMuestras) * np.sum(y_pred - y)\n",
        "\n",
        "            # Actualizar parametros\n",
        "            self.pesos -= self.aprendizaje * dw\n",
        "            self.sesgo -= self.aprendizaje * db\n",
        "\n",
        "    def predict(self, X):\n",
        "        y_pred = self.sigmoide(np.dot(X, self.pesos) + self.sesgo)\n",
        "        y_pred_class = [1 if i > 0.5 else 0 for i in y_pred]\n",
        "        return y_pred_class"
      ],
      "metadata": {
        "id": "yFLbShCcixoY"
      },
      "execution_count": 44,
      "outputs": []
    },
    {
      "cell_type": "code",
      "source": [
        "feature_names = ['Age', 'Sex', 'Pclass', 'Embarked', 'Fare']\n",
        "X = data_titanic[feature_names] # variables predictoras\n",
        "y = data_titanic['Survived']    # variable de respuesta\n",
        "X_train,X_test,y_train,y_test = train_test_split(X,y,test_size=0.2,random_state=42, stratify=y)\n",
        "\n",
        "RL = regLogistica(aprendizaje=0.001, iteraciones=1000)\n",
        "RL.fit(X_train, y_train)\n",
        "\n",
        "y_pred = RL.predict(X_test)\n",
        "print(\"Predicciones:\", y_pred)\n",
        "print(\"Accuracy:\", accuracy_score(y_test, y_pred))"
      ],
      "metadata": {
        "colab": {
          "base_uri": "https://localhost:8080/"
        },
        "id": "qQv4lq6Kkmc3",
        "outputId": "b008724f-2036-4d6b-c6be-a9b8739b5ffb"
      },
      "execution_count": 46,
      "outputs": [
        {
          "output_type": "stream",
          "name": "stdout",
          "text": [
            "Predicciones: [0, 0, 0, 1, 0, 0, 0, 1, 0, 1, 0, 0, 1, 0, 0, 0, 0, 0, 0, 0, 0, 0, 0, 0, 1, 1, 1, 1, 1, 0, 1, 0, 0, 0, 0, 1, 0, 0, 0, 0, 0, 0, 0, 0, 0, 0, 0, 1, 1, 0, 1, 0, 0, 1, 1, 1, 0, 0, 0, 0, 0, 0, 0, 0, 0, 0, 0, 0, 1, 0, 0, 0, 1, 1, 0, 0, 0, 0, 0, 0, 0, 0, 0, 0, 1, 0, 0, 0, 1, 1, 0, 1, 0, 0, 0, 0, 0, 0, 0, 0, 0, 0, 0, 0, 0, 0, 1, 0, 0, 0, 1, 0, 0, 1, 0, 0, 0, 0, 0, 0, 0, 1, 0, 0, 1, 0, 1, 0, 0, 0, 0, 0, 0, 0, 0, 0, 1, 1, 0, 0, 0, 0, 1]\n",
            "Accuracy: 0.6713286713286714\n"
          ]
        }
      ]
    }
  ]
}
